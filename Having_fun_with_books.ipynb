{
  "nbformat": 4,
  "nbformat_minor": 0,
  "metadata": {
    "colab": {
      "name": "Untitled7.ipynb",
      "provenance": [],
      "toc_visible": true,
      "authorship_tag": "ABX9TyP9FTr2+xuOmuTF6TK/XYVy",
      "include_colab_link": true
    },
    "kernelspec": {
      "name": "python3",
      "display_name": "Python 3"
    }
  },
  "cells": [
    {
      "cell_type": "markdown",
      "metadata": {
        "id": "view-in-github",
        "colab_type": "text"
      },
      "source": [
        "<a href=\"https://colab.research.google.com/github/KhaldounN/DSF_FINAL/blob/main/Having_fun_with_books.ipynb\" target=\"_parent\"><img src=\"https://colab.research.google.com/assets/colab-badge.svg\" alt=\"Open In Colab\"/></a>"
      ]
    },
    {
      "cell_type": "code",
      "metadata": {
        "id": "iGLm5GbyVz4h",
        "outputId": "9d02099c-0757-4275-b2ff-c34281e4ff4f",
        "colab": {
          "base_uri": "https://localhost:8080/"
        }
      },
      "source": [
        "!pip install plotly==4.5.2"
      ],
      "execution_count": 3,
      "outputs": [
        {
          "output_type": "stream",
          "text": [
            "Collecting plotly==4.5.2\n",
            "\u001b[?25l  Downloading https://files.pythonhosted.org/packages/a9/12/7d795064f87d1070975e55daa443ff5e5ee7eb6c8a9eaf41f3d6a5f91a91/plotly-4.5.2-py2.py3-none-any.whl (7.1MB)\n",
            "\u001b[K     |████████████████████████████████| 7.1MB 9.6MB/s \n",
            "\u001b[?25hRequirement already satisfied: six in /usr/local/lib/python3.6/dist-packages (from plotly==4.5.2) (1.15.0)\n",
            "Requirement already satisfied: retrying>=1.3.3 in /usr/local/lib/python3.6/dist-packages (from plotly==4.5.2) (1.3.3)\n",
            "Installing collected packages: plotly\n",
            "  Found existing installation: plotly 4.4.1\n",
            "    Uninstalling plotly-4.4.1:\n",
            "      Successfully uninstalled plotly-4.4.1\n",
            "Successfully installed plotly-4.5.2\n"
          ],
          "name": "stdout"
        }
      ]
    },
    {
      "cell_type": "code",
      "metadata": {
        "id": "FQGX_E-FZe-v",
        "outputId": "067701d8-f78b-44f1-a1e7-1f76743d7fe8",
        "colab": {
          "base_uri": "https://localhost:8080/"
        }
      },
      "source": [
        "!pip3 install flair"
      ],
      "execution_count": 1,
      "outputs": [
        {
          "output_type": "stream",
          "text": [
            "Collecting flair\n",
            "\u001b[?25l  Downloading https://files.pythonhosted.org/packages/68/a0/a1b41fa2fcb23ff71ba9148af75211dcccc35b256dea821b36e1ee871848/flair-0.7-py3-none-any.whl (448kB)\n",
            "\r\u001b[K     |▊                               | 10kB 21.4MB/s eta 0:00:01\r\u001b[K     |█▌                              | 20kB 14.0MB/s eta 0:00:01\r\u001b[K     |██▏                             | 30kB 16.0MB/s eta 0:00:01\r\u001b[K     |███                             | 40kB 12.4MB/s eta 0:00:01\r\u001b[K     |███▋                            | 51kB 14.0MB/s eta 0:00:01\r\u001b[K     |████▍                           | 61kB 14.4MB/s eta 0:00:01\r\u001b[K     |█████▏                          | 71kB 14.3MB/s eta 0:00:01\r\u001b[K     |█████▉                          | 81kB 12.9MB/s eta 0:00:01\r\u001b[K     |██████▋                         | 92kB 12.9MB/s eta 0:00:01\r\u001b[K     |███████▎                        | 102kB 11.4MB/s eta 0:00:01\r\u001b[K     |████████                        | 112kB 11.4MB/s eta 0:00:01\r\u001b[K     |████████▊                       | 122kB 11.4MB/s eta 0:00:01\r\u001b[K     |█████████▌                      | 133kB 11.4MB/s eta 0:00:01\r\u001b[K     |██████████▎                     | 143kB 11.4MB/s eta 0:00:01\r\u001b[K     |███████████                     | 153kB 11.4MB/s eta 0:00:01\r\u001b[K     |███████████▊                    | 163kB 11.4MB/s eta 0:00:01\r\u001b[K     |████████████▍                   | 174kB 11.4MB/s eta 0:00:01\r\u001b[K     |█████████████▏                  | 184kB 11.4MB/s eta 0:00:01\r\u001b[K     |█████████████▉                  | 194kB 11.4MB/s eta 0:00:01\r\u001b[K     |██████████████▋                 | 204kB 11.4MB/s eta 0:00:01\r\u001b[K     |███████████████▍                | 215kB 11.4MB/s eta 0:00:01\r\u001b[K     |████████████████                | 225kB 11.4MB/s eta 0:00:01\r\u001b[K     |████████████████▉               | 235kB 11.4MB/s eta 0:00:01\r\u001b[K     |█████████████████▌              | 245kB 11.4MB/s eta 0:00:01\r\u001b[K     |██████████████████▎             | 256kB 11.4MB/s eta 0:00:01\r\u001b[K     |███████████████████             | 266kB 11.4MB/s eta 0:00:01\r\u001b[K     |███████████████████▊            | 276kB 11.4MB/s eta 0:00:01\r\u001b[K     |████████████████████▌           | 286kB 11.4MB/s eta 0:00:01\r\u001b[K     |█████████████████████▏          | 296kB 11.4MB/s eta 0:00:01\r\u001b[K     |██████████████████████          | 307kB 11.4MB/s eta 0:00:01\r\u001b[K     |██████████████████████▋         | 317kB 11.4MB/s eta 0:00:01\r\u001b[K     |███████████████████████▍        | 327kB 11.4MB/s eta 0:00:01\r\u001b[K     |████████████████████████▏       | 337kB 11.4MB/s eta 0:00:01\r\u001b[K     |████████████████████████▉       | 348kB 11.4MB/s eta 0:00:01\r\u001b[K     |█████████████████████████▋      | 358kB 11.4MB/s eta 0:00:01\r\u001b[K     |██████████████████████████▎     | 368kB 11.4MB/s eta 0:00:01\r\u001b[K     |███████████████████████████     | 378kB 11.4MB/s eta 0:00:01\r\u001b[K     |███████████████████████████▊    | 389kB 11.4MB/s eta 0:00:01\r\u001b[K     |████████████████████████████▌   | 399kB 11.4MB/s eta 0:00:01\r\u001b[K     |█████████████████████████████▎  | 409kB 11.4MB/s eta 0:00:01\r\u001b[K     |██████████████████████████████  | 419kB 11.4MB/s eta 0:00:01\r\u001b[K     |██████████████████████████████▊ | 430kB 11.4MB/s eta 0:00:01\r\u001b[K     |███████████████████████████████▍| 440kB 11.4MB/s eta 0:00:01\r\u001b[K     |████████████████████████████████| 450kB 11.4MB/s \n",
            "\u001b[?25hRequirement already satisfied: tabulate in /usr/local/lib/python3.6/dist-packages (from flair) (0.8.7)\n",
            "Collecting bpemb>=0.3.2\n",
            "  Downloading https://files.pythonhosted.org/packages/91/77/3f0f53856e86af32b1d3c86652815277f7b5f880002584eb30db115b6df5/bpemb-0.3.2-py3-none-any.whl\n",
            "Collecting sentencepiece<=0.1.91\n",
            "\u001b[?25l  Downloading https://files.pythonhosted.org/packages/d4/a4/d0a884c4300004a78cca907a6ff9a5e9fe4f090f5d95ab341c53d28cbc58/sentencepiece-0.1.91-cp36-cp36m-manylinux1_x86_64.whl (1.1MB)\n",
            "\u001b[K     |████████████████████████████████| 1.1MB 29.3MB/s \n",
            "\u001b[?25hRequirement already satisfied: regex in /usr/local/lib/python3.6/dist-packages (from flair) (2019.12.20)\n",
            "Requirement already satisfied: hyperopt>=0.1.1 in /usr/local/lib/python3.6/dist-packages (from flair) (0.1.2)\n",
            "Collecting transformers<=3.5.1,>=3.5.0\n",
            "\u001b[?25l  Downloading https://files.pythonhosted.org/packages/3a/83/e74092e7f24a08d751aa59b37a9fc572b2e4af3918cb66f7766c3affb1b4/transformers-3.5.1-py3-none-any.whl (1.3MB)\n",
            "\u001b[K     |████████████████████████████████| 1.3MB 64.0MB/s \n",
            "\u001b[?25hCollecting langdetect\n",
            "\u001b[?25l  Downloading https://files.pythonhosted.org/packages/56/a3/8407c1e62d5980188b4acc45ef3d94b933d14a2ebc9ef3505f22cf772570/langdetect-1.0.8.tar.gz (981kB)\n",
            "\u001b[K     |████████████████████████████████| 983kB 35.9MB/s \n",
            "\u001b[?25hCollecting konoha<5.0.0,>=4.0.0\n",
            "  Downloading https://files.pythonhosted.org/packages/ea/01/47358efec5396fc80f98273c42cbdfe7aab056252b07884ffcc0f118978f/konoha-4.6.2-py3-none-any.whl\n",
            "Requirement already satisfied: tqdm>=4.26.0 in /usr/local/lib/python3.6/dist-packages (from flair) (4.41.1)\n",
            "Requirement already satisfied: scikit-learn>=0.21.3 in /usr/local/lib/python3.6/dist-packages (from flair) (0.22.2.post1)\n",
            "Requirement already satisfied: python-dateutil>=2.6.1 in /usr/local/lib/python3.6/dist-packages (from flair) (2.8.1)\n",
            "Requirement already satisfied: matplotlib>=2.2.3 in /usr/local/lib/python3.6/dist-packages (from flair) (3.2.2)\n",
            "Collecting mpld3==0.3\n",
            "\u001b[?25l  Downloading https://files.pythonhosted.org/packages/91/95/a52d3a83d0a29ba0d6898f6727e9858fe7a43f6c2ce81a5fe7e05f0f4912/mpld3-0.3.tar.gz (788kB)\n",
            "\u001b[K     |████████████████████████████████| 798kB 36.1MB/s \n",
            "\u001b[?25hCollecting deprecated>=1.2.4\n",
            "  Downloading https://files.pythonhosted.org/packages/76/a1/05d7f62f956d77b23a640efc650f80ce24483aa2f85a09c03fb64f49e879/Deprecated-1.2.10-py2.py3-none-any.whl\n",
            "Requirement already satisfied: gdown in /usr/local/lib/python3.6/dist-packages (from flair) (3.6.4)\n",
            "Collecting ftfy\n",
            "\u001b[?25l  Downloading https://files.pythonhosted.org/packages/ff/e2/3b51c53dffb1e52d9210ebc01f1fb9f2f6eba9b3201fa971fd3946643c71/ftfy-5.8.tar.gz (64kB)\n",
            "\u001b[K     |████████████████████████████████| 71kB 6.9MB/s \n",
            "\u001b[?25hRequirement already satisfied: torch>=1.1.0 in /usr/local/lib/python3.6/dist-packages (from flair) (1.7.0+cu101)\n",
            "Collecting janome\n",
            "\u001b[?25l  Downloading https://files.pythonhosted.org/packages/a8/63/98858cbead27df7536c7e300c169da0999e9704d02220dc6700b804eeff0/Janome-0.4.1-py2.py3-none-any.whl (19.7MB)\n",
            "\u001b[K     |████████████████████████████████| 19.7MB 255kB/s \n",
            "\u001b[?25hRequirement already satisfied: gensim<=3.8.3,>=3.4.0 in /usr/local/lib/python3.6/dist-packages (from flair) (3.6.0)\n",
            "Collecting sqlitedict>=1.6.0\n",
            "  Downloading https://files.pythonhosted.org/packages/5c/2d/b1d99e9ad157dd7de9cd0d36a8a5876b13b55e4b75f7498bc96035fb4e96/sqlitedict-1.7.0.tar.gz\n",
            "Collecting segtok>=1.5.7\n",
            "  Downloading https://files.pythonhosted.org/packages/41/08/582dab5f4b1d5ca23bc6927b4bb977c8ff7f3a87a3b98844ef833e2f5623/segtok-1.5.10.tar.gz\n",
            "Requirement already satisfied: lxml in /usr/local/lib/python3.6/dist-packages (from flair) (4.2.6)\n",
            "Requirement already satisfied: numpy in /usr/local/lib/python3.6/dist-packages (from bpemb>=0.3.2->flair) (1.19.4)\n",
            "Requirement already satisfied: requests in /usr/local/lib/python3.6/dist-packages (from bpemb>=0.3.2->flair) (2.23.0)\n",
            "Requirement already satisfied: future in /usr/local/lib/python3.6/dist-packages (from hyperopt>=0.1.1->flair) (0.16.0)\n",
            "Requirement already satisfied: pymongo in /usr/local/lib/python3.6/dist-packages (from hyperopt>=0.1.1->flair) (3.11.2)\n",
            "Requirement already satisfied: networkx in /usr/local/lib/python3.6/dist-packages (from hyperopt>=0.1.1->flair) (2.5)\n",
            "Requirement already satisfied: scipy in /usr/local/lib/python3.6/dist-packages (from hyperopt>=0.1.1->flair) (1.4.1)\n",
            "Requirement already satisfied: six in /usr/local/lib/python3.6/dist-packages (from hyperopt>=0.1.1->flair) (1.15.0)\n",
            "Requirement already satisfied: packaging in /usr/local/lib/python3.6/dist-packages (from transformers<=3.5.1,>=3.5.0->flair) (20.8)\n",
            "Requirement already satisfied: dataclasses; python_version < \"3.7\" in /usr/local/lib/python3.6/dist-packages (from transformers<=3.5.1,>=3.5.0->flair) (0.8)\n",
            "Requirement already satisfied: filelock in /usr/local/lib/python3.6/dist-packages (from transformers<=3.5.1,>=3.5.0->flair) (3.0.12)\n",
            "Requirement already satisfied: protobuf in /usr/local/lib/python3.6/dist-packages (from transformers<=3.5.1,>=3.5.0->flair) (3.12.4)\n",
            "Collecting tokenizers==0.9.3\n",
            "\u001b[?25l  Downloading https://files.pythonhosted.org/packages/4c/34/b39eb9994bc3c999270b69c9eea40ecc6f0e97991dba28282b9fd32d44ee/tokenizers-0.9.3-cp36-cp36m-manylinux1_x86_64.whl (2.9MB)\n",
            "\u001b[K     |████████████████████████████████| 2.9MB 43.4MB/s \n",
            "\u001b[?25hCollecting sacremoses\n",
            "\u001b[?25l  Downloading https://files.pythonhosted.org/packages/7d/34/09d19aff26edcc8eb2a01bed8e98f13a1537005d31e95233fd48216eed10/sacremoses-0.0.43.tar.gz (883kB)\n",
            "\u001b[K     |████████████████████████████████| 890kB 45.2MB/s \n",
            "\u001b[?25hCollecting overrides==3.0.0\n",
            "  Downloading https://files.pythonhosted.org/packages/42/8d/caa729f809ecdf8e76fac3c1ff7d3f0b72c398c9dd8a6919927a30a873b3/overrides-3.0.0.tar.gz\n",
            "Requirement already satisfied: joblib>=0.11 in /usr/local/lib/python3.6/dist-packages (from scikit-learn>=0.21.3->flair) (1.0.0)\n",
            "Requirement already satisfied: cycler>=0.10 in /usr/local/lib/python3.6/dist-packages (from matplotlib>=2.2.3->flair) (0.10.0)\n",
            "Requirement already satisfied: kiwisolver>=1.0.1 in /usr/local/lib/python3.6/dist-packages (from matplotlib>=2.2.3->flair) (1.3.1)\n",
            "Requirement already satisfied: pyparsing!=2.0.4,!=2.1.2,!=2.1.6,>=2.0.1 in /usr/local/lib/python3.6/dist-packages (from matplotlib>=2.2.3->flair) (2.4.7)\n",
            "Requirement already satisfied: wrapt<2,>=1.10 in /usr/local/lib/python3.6/dist-packages (from deprecated>=1.2.4->flair) (1.12.1)\n",
            "Requirement already satisfied: wcwidth in /usr/local/lib/python3.6/dist-packages (from ftfy->flair) (0.2.5)\n",
            "Requirement already satisfied: typing-extensions in /usr/local/lib/python3.6/dist-packages (from torch>=1.1.0->flair) (3.7.4.3)\n",
            "Requirement already satisfied: smart-open>=1.2.1 in /usr/local/lib/python3.6/dist-packages (from gensim<=3.8.3,>=3.4.0->flair) (4.0.1)\n",
            "Requirement already satisfied: urllib3!=1.25.0,!=1.25.1,<1.26,>=1.21.1 in /usr/local/lib/python3.6/dist-packages (from requests->bpemb>=0.3.2->flair) (1.24.3)\n",
            "Requirement already satisfied: chardet<4,>=3.0.2 in /usr/local/lib/python3.6/dist-packages (from requests->bpemb>=0.3.2->flair) (3.0.4)\n",
            "Requirement already satisfied: certifi>=2017.4.17 in /usr/local/lib/python3.6/dist-packages (from requests->bpemb>=0.3.2->flair) (2020.12.5)\n",
            "Requirement already satisfied: idna<3,>=2.5 in /usr/local/lib/python3.6/dist-packages (from requests->bpemb>=0.3.2->flair) (2.10)\n",
            "Requirement already satisfied: decorator>=4.3.0 in /usr/local/lib/python3.6/dist-packages (from networkx->hyperopt>=0.1.1->flair) (4.4.2)\n",
            "Requirement already satisfied: setuptools in /usr/local/lib/python3.6/dist-packages (from protobuf->transformers<=3.5.1,>=3.5.0->flair) (50.3.2)\n",
            "Requirement already satisfied: click in /usr/local/lib/python3.6/dist-packages (from sacremoses->transformers<=3.5.1,>=3.5.0->flair) (7.1.2)\n",
            "Building wheels for collected packages: langdetect, mpld3, ftfy, sqlitedict, segtok, sacremoses, overrides\n",
            "  Building wheel for langdetect (setup.py) ... \u001b[?25l\u001b[?25hdone\n",
            "  Created wheel for langdetect: filename=langdetect-1.0.8-cp36-none-any.whl size=993194 sha256=05709be427ea0f7ae73e6f5ed892cd01b35eacad60655c868008637ca7bf1964\n",
            "  Stored in directory: /root/.cache/pip/wheels/8d/b3/aa/6d99de9f3841d7d3d40a60ea06e6d669e8e5012e6c8b947a57\n",
            "  Building wheel for mpld3 (setup.py) ... \u001b[?25l\u001b[?25hdone\n",
            "  Created wheel for mpld3: filename=mpld3-0.3-cp36-none-any.whl size=116678 sha256=a4a3782c535aa77f19dedb50857af8153cb60fc42665bf67228b61443006399f\n",
            "  Stored in directory: /root/.cache/pip/wheels/c0/47/fb/8a64f89aecfe0059830479308ad42d62e898a3e3cefdf6ba28\n",
            "  Building wheel for ftfy (setup.py) ... \u001b[?25l\u001b[?25hdone\n",
            "  Created wheel for ftfy: filename=ftfy-5.8-cp36-none-any.whl size=45613 sha256=3f98706aad08aee95a22aceac664c2ed4f6d64ef45b74ea414836963ca2d4839\n",
            "  Stored in directory: /root/.cache/pip/wheels/ba/c0/ef/f28c4da5ac84a4e06ac256ca9182fc34fa57fefffdbc68425b\n",
            "  Building wheel for sqlitedict (setup.py) ... \u001b[?25l\u001b[?25hdone\n",
            "  Created wheel for sqlitedict: filename=sqlitedict-1.7.0-cp36-none-any.whl size=14376 sha256=8546ba0b09951721a47f78e34b49483291d320021e2b390eff19a80100bbb322\n",
            "  Stored in directory: /root/.cache/pip/wheels/cf/c6/4f/2c64a43f041415eb8b8740bd80e15e92f0d46c5e464d8e4b9b\n",
            "  Building wheel for segtok (setup.py) ... \u001b[?25l\u001b[?25hdone\n",
            "  Created wheel for segtok: filename=segtok-1.5.10-cp36-none-any.whl size=25019 sha256=b89f39af17312fed86d0d47311caad66cdc5e9fe5fa980c49970400c6ff54781\n",
            "  Stored in directory: /root/.cache/pip/wheels/b4/39/f6/9ca1c5cabde964d728023b5751c3a206a5c8cc40252321fb6b\n",
            "  Building wheel for sacremoses (setup.py) ... \u001b[?25l\u001b[?25hdone\n",
            "  Created wheel for sacremoses: filename=sacremoses-0.0.43-cp36-none-any.whl size=893261 sha256=e8ab1dc81374d7bc4f5507f8f20d28e1fe511cb95d4422f6c27d738604d9a353\n",
            "  Stored in directory: /root/.cache/pip/wheels/29/3c/fd/7ce5c3f0666dab31a50123635e6fb5e19ceb42ce38d4e58f45\n",
            "  Building wheel for overrides (setup.py) ... \u001b[?25l\u001b[?25hdone\n",
            "  Created wheel for overrides: filename=overrides-3.0.0-cp36-none-any.whl size=5669 sha256=f5304a588eae1049bd98210eb32e3f71e82c11a379d94b8bf036390008bdeed8\n",
            "  Stored in directory: /root/.cache/pip/wheels/6f/1b/ec/6c71a1eb823df7f850d956b2d8c50a6d49c191e1063d73b9be\n",
            "Successfully built langdetect mpld3 ftfy sqlitedict segtok sacremoses overrides\n",
            "Installing collected packages: sentencepiece, bpemb, tokenizers, sacremoses, transformers, langdetect, overrides, konoha, mpld3, deprecated, ftfy, janome, sqlitedict, segtok, flair\n",
            "Successfully installed bpemb-0.3.2 deprecated-1.2.10 flair-0.7 ftfy-5.8 janome-0.4.1 konoha-4.6.2 langdetect-1.0.8 mpld3-0.3 overrides-3.0.0 sacremoses-0.0.43 segtok-1.5.10 sentencepiece-0.1.91 sqlitedict-1.7.0 tokenizers-0.9.3 transformers-3.5.1\n"
          ],
          "name": "stdout"
        }
      ]
    },
    {
      "cell_type": "code",
      "metadata": {
        "id": "1V1G-HhOZfBp",
        "outputId": "de0a3340-2277-4d65-ed2b-2f42d28cd54f",
        "colab": {
          "base_uri": "https://localhost:8080/"
        }
      },
      "source": [
        "\r\n",
        "!python -m spacy download en_core_web_md"
      ],
      "execution_count": 2,
      "outputs": [
        {
          "output_type": "stream",
          "text": [
            "Collecting en_core_web_md==2.2.5\n",
            "\u001b[?25l  Downloading https://github.com/explosion/spacy-models/releases/download/en_core_web_md-2.2.5/en_core_web_md-2.2.5.tar.gz (96.4MB)\n",
            "\u001b[K     |████████████████████████████████| 96.4MB 1.2MB/s \n",
            "\u001b[?25hRequirement already satisfied: spacy>=2.2.2 in /usr/local/lib/python3.6/dist-packages (from en_core_web_md==2.2.5) (2.2.4)\n",
            "Requirement already satisfied: wasabi<1.1.0,>=0.4.0 in /usr/local/lib/python3.6/dist-packages (from spacy>=2.2.2->en_core_web_md==2.2.5) (0.8.0)\n",
            "Requirement already satisfied: srsly<1.1.0,>=1.0.2 in /usr/local/lib/python3.6/dist-packages (from spacy>=2.2.2->en_core_web_md==2.2.5) (1.0.5)\n",
            "Requirement already satisfied: tqdm<5.0.0,>=4.38.0 in /usr/local/lib/python3.6/dist-packages (from spacy>=2.2.2->en_core_web_md==2.2.5) (4.41.1)\n",
            "Requirement already satisfied: numpy>=1.15.0 in /usr/local/lib/python3.6/dist-packages (from spacy>=2.2.2->en_core_web_md==2.2.5) (1.19.4)\n",
            "Requirement already satisfied: blis<0.5.0,>=0.4.0 in /usr/local/lib/python3.6/dist-packages (from spacy>=2.2.2->en_core_web_md==2.2.5) (0.4.1)\n",
            "Requirement already satisfied: requests<3.0.0,>=2.13.0 in /usr/local/lib/python3.6/dist-packages (from spacy>=2.2.2->en_core_web_md==2.2.5) (2.23.0)\n",
            "Requirement already satisfied: setuptools in /usr/local/lib/python3.6/dist-packages (from spacy>=2.2.2->en_core_web_md==2.2.5) (50.3.2)\n",
            "Requirement already satisfied: cymem<2.1.0,>=2.0.2 in /usr/local/lib/python3.6/dist-packages (from spacy>=2.2.2->en_core_web_md==2.2.5) (2.0.5)\n",
            "Requirement already satisfied: catalogue<1.1.0,>=0.0.7 in /usr/local/lib/python3.6/dist-packages (from spacy>=2.2.2->en_core_web_md==2.2.5) (1.0.0)\n",
            "Requirement already satisfied: murmurhash<1.1.0,>=0.28.0 in /usr/local/lib/python3.6/dist-packages (from spacy>=2.2.2->en_core_web_md==2.2.5) (1.0.5)\n",
            "Requirement already satisfied: preshed<3.1.0,>=3.0.2 in /usr/local/lib/python3.6/dist-packages (from spacy>=2.2.2->en_core_web_md==2.2.5) (3.0.5)\n",
            "Requirement already satisfied: thinc==7.4.0 in /usr/local/lib/python3.6/dist-packages (from spacy>=2.2.2->en_core_web_md==2.2.5) (7.4.0)\n",
            "Requirement already satisfied: plac<1.2.0,>=0.9.6 in /usr/local/lib/python3.6/dist-packages (from spacy>=2.2.2->en_core_web_md==2.2.5) (1.1.3)\n",
            "Requirement already satisfied: chardet<4,>=3.0.2 in /usr/local/lib/python3.6/dist-packages (from requests<3.0.0,>=2.13.0->spacy>=2.2.2->en_core_web_md==2.2.5) (3.0.4)\n",
            "Requirement already satisfied: certifi>=2017.4.17 in /usr/local/lib/python3.6/dist-packages (from requests<3.0.0,>=2.13.0->spacy>=2.2.2->en_core_web_md==2.2.5) (2020.12.5)\n",
            "Requirement already satisfied: idna<3,>=2.5 in /usr/local/lib/python3.6/dist-packages (from requests<3.0.0,>=2.13.0->spacy>=2.2.2->en_core_web_md==2.2.5) (2.10)\n",
            "Requirement already satisfied: urllib3!=1.25.0,!=1.25.1,<1.26,>=1.21.1 in /usr/local/lib/python3.6/dist-packages (from requests<3.0.0,>=2.13.0->spacy>=2.2.2->en_core_web_md==2.2.5) (1.24.3)\n",
            "Requirement already satisfied: importlib-metadata>=0.20; python_version < \"3.8\" in /usr/local/lib/python3.6/dist-packages (from catalogue<1.1.0,>=0.0.7->spacy>=2.2.2->en_core_web_md==2.2.5) (3.3.0)\n",
            "Requirement already satisfied: typing-extensions>=3.6.4; python_version < \"3.8\" in /usr/local/lib/python3.6/dist-packages (from importlib-metadata>=0.20; python_version < \"3.8\"->catalogue<1.1.0,>=0.0.7->spacy>=2.2.2->en_core_web_md==2.2.5) (3.7.4.3)\n",
            "Requirement already satisfied: zipp>=0.5 in /usr/local/lib/python3.6/dist-packages (from importlib-metadata>=0.20; python_version < \"3.8\"->catalogue<1.1.0,>=0.0.7->spacy>=2.2.2->en_core_web_md==2.2.5) (3.4.0)\n",
            "Building wheels for collected packages: en-core-web-md\n",
            "  Building wheel for en-core-web-md (setup.py) ... \u001b[?25l\u001b[?25hdone\n",
            "  Created wheel for en-core-web-md: filename=en_core_web_md-2.2.5-cp36-none-any.whl size=98051304 sha256=5f7be5390abf3cdc3566764dbe71aff67fb98d556d55ac57a2a77661de02e48d\n",
            "  Stored in directory: /tmp/pip-ephem-wheel-cache-0sxmlbui/wheels/df/94/ad/f5cf59224cea6b5686ac4fd1ad19c8a07bc026e13c36502d81\n",
            "Successfully built en-core-web-md\n",
            "Installing collected packages: en-core-web-md\n",
            "Successfully installed en-core-web-md-2.2.5\n",
            "\u001b[38;5;2m✔ Download and installation successful\u001b[0m\n",
            "You can now load the model via spacy.load('en_core_web_md')\n"
          ],
          "name": "stdout"
        }
      ]
    },
    {
      "cell_type": "markdown",
      "metadata": {
        "id": "0vhk2aIUgUT7"
      },
      "source": [
        "# Train Model to classify Emotions"
      ]
    },
    {
      "cell_type": "code",
      "metadata": {
        "id": "vZz6aophgTWE",
        "colab": {
          "base_uri": "https://localhost:8080/",
          "height": 416
        },
        "outputId": "0d49a0c0-8691-4228-f7d5-56319560e680"
      },
      "source": [
        "# Import data\r\n",
        "\r\n",
        "import pandas as pd \r\n",
        "from sklearn.model_selection import train_test_split\r\n",
        "\r\n",
        "df_train = pd.read_csv('/content/train.txt', header =None, sep =';', names = ['Input','Sentiment'], encoding='utf-8')\r\n",
        "df_test = pd.read_csv('/content/test.txt', header = None, sep =';', names = ['Input','Sentiment'],encoding='utf-8')\r\n",
        "df_val = pd.read_csv('/content/val.txt', header = None, sep =';', names = ['Input','Sentiment'],encoding='utf-8')\r\n",
        "\r\n",
        "#join data to split later on \r\n",
        "df = pd.concat([df_train,df_test, df_val])\r\n",
        "\r\n",
        "\r\n",
        "#check data balance \r\n",
        "print(df.head())\r\n",
        "df['Sentiment'].value_counts().plot(kind = 'bar')"
      ],
      "execution_count": 4,
      "outputs": [
        {
          "output_type": "stream",
          "text": [
            "                                               Input Sentiment\n",
            "0                            i didnt feel humiliated   sadness\n",
            "1  i can go from feeling so hopeless to so damned...   sadness\n",
            "2   im grabbing a minute to post i feel greedy wrong     anger\n",
            "3  i am ever feeling nostalgic about the fireplac...      love\n",
            "4                               i am feeling grouchy     anger\n"
          ],
          "name": "stdout"
        },
        {
          "output_type": "execute_result",
          "data": {
            "text/plain": [
              "<matplotlib.axes._subplots.AxesSubplot at 0x7f58e9ae16d8>"
            ]
          },
          "metadata": {
            "tags": []
          },
          "execution_count": 4
        },
        {
          "output_type": "display_data",
          "data": {
            "image/png": "[encoded data removed]",
            "text/plain": [
              "<Figure size 432x288 with 1 Axes>"
            ]
          },
          "metadata": {
            "tags": [],
            "needs_background": "light"
          }
        }
      ]
    },
    {
      "cell_type": "code",
      "metadata": {
        "id": "wIReNf-PnaHr",
        "colab": {
          "base_uri": "https://localhost:8080/",
          "height": 314
        },
        "outputId": "c3ff0a85-7ba9-4342-9635-ae0677afc3a3"
      },
      "source": [
        "#douplicate the  imbalanced labels to balance data\r\n",
        "\r\n",
        "df2 = df[df.Sentiment.isin(['fear','anger','love','surprise'])]\r\n",
        "df = pd.concat([df,df2])\r\n",
        "df['Sentiment'].value_counts().plot(kind = 'bar')"
      ],
      "execution_count": 5,
      "outputs": [
        {
          "output_type": "execute_result",
          "data": {
            "text/plain": [
              "<matplotlib.axes._subplots.AxesSubplot at 0x7f58f9b2b4e0>"
            ]
          },
          "metadata": {
            "tags": []
          },
          "execution_count": 5
        },
        {
          "output_type": "display_data",
          "data": {
            "image/png": "[encoded data removed]",
            "text/plain": [
              "<Figure size 432x288 with 1 Axes>"
            ]
          },
          "metadata": {
            "tags": [],
            "needs_background": "light"
          }
        }
      ]
    },
    {
      "cell_type": "code",
      "metadata": {
        "id": "FII_h49XfKGZ"
      },
      "source": [
        "# Prepare Victorizer \r\n",
        "\r\n",
        "from sklearn.feature_extraction.text import CountVectorizer\r\n",
        "from nltk.tokenize import RegexpTokenizer\r\n",
        "\r\n",
        "token = RegexpTokenizer(r'[a-zA-Z0-9]+')\r\n",
        "cv = CountVectorizer(stop_words='english', ngram_range=(1,1), tokenizer = token.tokenize)\r\n",
        "\r\n",
        "# fit Victorizer \r\n",
        "X = cv.fit_transform(df['Input'])\r\n"
      ],
      "execution_count": 6,
      "outputs": []
    },
    {
      "cell_type": "code",
      "metadata": {
        "id": "sXHKp1R8fKI5"
      },
      "source": [
        "#split data set \r\n",
        "from sklearn.model_selection import train_test_split\r\n",
        "\r\n",
        "y = df['Sentiment']\r\n",
        "\r\n",
        "X_train, X_test, y_train, y_test = train_test_split(X,y, test_size=0.15, random_state=20)"
      ],
      "execution_count": 7,
      "outputs": []
    },
    {
      "cell_type": "code",
      "metadata": {
        "id": "Dn42yHT90wb-",
        "colab": {
          "base_uri": "https://localhost:8080/"
        },
        "outputId": "05bfdc48-0af6-4472-b842-c4b553b35242"
      },
      "source": [
        "#intial and fit the ML model\r\n",
        "from sklearn.ensemble import RandomForestClassifier\r\n",
        "model_emotions = RandomForestClassifier()\r\n",
        "model_emotions.fit(X_train, y_train)"
      ],
      "execution_count": 8,
      "outputs": [
        {
          "output_type": "execute_result",
          "data": {
            "text/plain": [
              "RandomForestClassifier(bootstrap=True, ccp_alpha=0.0, class_weight=None,\n",
              "                       criterion='gini', max_depth=None, max_features='auto',\n",
              "                       max_leaf_nodes=None, max_samples=None,\n",
              "                       min_impurity_decrease=0.0, min_impurity_split=None,\n",
              "                       min_samples_leaf=1, min_samples_split=2,\n",
              "                       min_weight_fraction_leaf=0.0, n_estimators=100,\n",
              "                       n_jobs=None, oob_score=False, random_state=None,\n",
              "                       verbose=0, warm_start=False)"
            ]
          },
          "metadata": {
            "tags": []
          },
          "execution_count": 8
        }
      ]
    },
    {
      "cell_type": "code",
      "metadata": {
        "id": "EdOXbpEv154t",
        "colab": {
          "base_uri": "https://localhost:8080/"
        },
        "outputId": "b53cb82c-0bbf-42dc-c73f-29917d315229"
      },
      "source": [
        "# Test Model and print Accuracy \r\n",
        "from sklearn import metrics\r\n",
        "from sklearn.metrics import precision_score\r\n",
        "from sklearn.metrics import recall_score\r\n",
        "from sklearn.metrics import f1_score\r\n",
        "from sklearn.metrics import confusion_matrix,classification_report\r\n",
        "\r\n",
        "predicted = model_emotions.predict(X_test)\r\n",
        "acc_score = metrics.accuracy_score(predicted,y_test)\r\n",
        "prec_score = precision_score(y_test,predicted, average='macro')\r\n",
        "recall = recall_score(y_test, predicted,average='macro')\r\n",
        "f1 = f1_score(y_test,predicted,average='macro')\r\n",
        "matrix = confusion_matrix(y_test,predicted)\r\n",
        "\r\n",
        "\r\n",
        "print(str('Accuracy: '+'{:04.2f}'.format(acc_score*100))+'%')\r\n",
        "print(str('Precision: '+'{:04.2f}'.format(prec_score*100))+'%')\r\n",
        "print(str('Recall: '+'{:04.2f}'.format(recall*100))+'%')\r\n",
        "print('F1 Score: ',f1)\r\n",
        "print(matrix)\r\n"
      ],
      "execution_count": 9,
      "outputs": [
        {
          "output_type": "stream",
          "text": [
            "Accuracy: 93.22%\n",
            "Precision: 92.50%\n",
            "Recall: 94.08%\n",
            "F1 Score:  0.931608750932329\n",
            "[[774   2   0   2   0   0]\n",
            " [ 11 702   0   2   6   5]\n",
            " [ 13  10 909  56  32   9]\n",
            " [  2   0  13 447   0   0]\n",
            " [ 37  26  26  12 809   4]\n",
            " [  0   9   0   2   0 197]]\n"
          ],
          "name": "stdout"
        }
      ]
    },
    {
      "cell_type": "markdown",
      "metadata": {
        "id": "h-wYNgGcSlUJ"
      },
      "source": [
        "### manual check on Model "
      ]
    },
    {
      "cell_type": "code",
      "metadata": {
        "id": "_8Eg42ko15-X",
        "colab": {
          "base_uri": "https://localhost:8080/",
          "height": 235
        },
        "outputId": "344574cf-f321-43ff-fe86-26987dd58219"
      },
      "source": [
        "### Manual test of the model \r\n",
        "\r\n",
        "text  = ['this makes me happy' , ' this is a  let down ', ' I am sad ', ' I am pissed off' , 'I liked him alot', ' it disgust me']\r\n",
        "result =model_emotions.predict(cv.transform(text))\r\n",
        "\r\n",
        "results = pd.DataFrame(text,result)\r\n",
        "results"
      ],
      "execution_count": 10,
      "outputs": [
        {
          "output_type": "execute_result",
          "data": {
            "text/html": [
              "<div>\n",
              "<style scoped>\n",
              "    .dataframe tbody tr th:only-of-type {\n",
              "        vertical-align: middle;\n",
              "    }\n",
              "\n",
              "    .dataframe tbody tr th {\n",
              "        vertical-align: top;\n",
              "    }\n",
              "\n",
              "    .dataframe thead th {\n",
              "        text-align: right;\n",
              "    }\n",
              "</style>\n",
              "<table border=\"1\" class=\"dataframe\">\n",
              "  <thead>\n",
              "    <tr style=\"text-align: right;\">\n",
              "      <th></th>\n",
              "      <th>0</th>\n",
              "    </tr>\n",
              "  </thead>\n",
              "  <tbody>\n",
              "    <tr>\n",
              "      <th>joy</th>\n",
              "      <td>this makes me happy</td>\n",
              "    </tr>\n",
              "    <tr>\n",
              "      <th>anger</th>\n",
              "      <td>this is a  let down</td>\n",
              "    </tr>\n",
              "    <tr>\n",
              "      <th>sadness</th>\n",
              "      <td>I am sad</td>\n",
              "    </tr>\n",
              "    <tr>\n",
              "      <th>anger</th>\n",
              "      <td>I am pissed off</td>\n",
              "    </tr>\n",
              "    <tr>\n",
              "      <th>love</th>\n",
              "      <td>I liked him alot</td>\n",
              "    </tr>\n",
              "    <tr>\n",
              "      <th>anger</th>\n",
              "      <td>it disgust me</td>\n",
              "    </tr>\n",
              "  </tbody>\n",
              "</table>\n",
              "</div>"
            ],
            "text/plain": [
              "                             0\n",
              "joy        this makes me happy\n",
              "anger     this is a  let down \n",
              "sadness              I am sad \n",
              "anger          I am pissed off\n",
              "love          I liked him alot\n",
              "anger            it disgust me"
            ]
          },
          "metadata": {
            "tags": []
          },
          "execution_count": 10
        }
      ]
    },
    {
      "cell_type": "code",
      "metadata": {
        "id": "ZlIT8TmY16D8"
      },
      "source": [
        "# Save the model and victorizer using pickle \r\n",
        "import pickle\r\n",
        "filename = 'emotions_detector.sav'\r\n",
        "pickle.dump(model_emotions, open(filename, 'wb'))\r\n",
        "pickle.dump(cv, open(\"vectorizer.pickle\", \"wb\"))"
      ],
      "execution_count": 11,
      "outputs": []
    },
    {
      "cell_type": "markdown",
      "metadata": {
        "id": "pbxeoOcjrU6x"
      },
      "source": [
        "# Importing needed libraries \r\n"
      ]
    },
    {
      "cell_type": "code",
      "metadata": {
        "id": "SwwFM4L5ZeFc"
      },
      "source": [
        "from flair.models import TextClassifier\r\n",
        "from flair.data import Sentence\r\n",
        "import pandas as pd\r\n",
        "import numpy as np\r\n",
        "import matplotlib.pyplot as plt\r\n",
        "import seaborn as sns\r\n",
        "plt.style.use(\"seaborn\")\r\n",
        "import plotly.express as px\r\n",
        "import plotly.graph_objects as go\r\n",
        "import warnings\r\n",
        "warnings.filterwarnings('ignore')\r\n",
        "import spacy\r\n",
        "import pickle\r\n",
        "from nltk.tokenize import RegexpTokenizer\r\n",
        "import warnings; \r\n",
        "warnings.simplefilter('ignore')"
      ],
      "execution_count": 12,
      "outputs": []
    },
    {
      "cell_type": "markdown",
      "metadata": {
        "id": "g9EgOlBpV0hL"
      },
      "source": [
        "# Defining Functions "
      ]
    },
    {
      "cell_type": "code",
      "metadata": {
        "id": "vZlBhv_9V7i5"
      },
      "source": [
        "\r\n",
        "# load book , clean data and split into sentences \r\n",
        "\r\n",
        "def Load_book(path):\r\n",
        "  book = open(path, 'r').read()\r\n",
        "  book = book.replace(\"_\",' ')\r\n",
        "  book = book.replace(\"\\n\",'')\r\n",
        "  sentences  = book.split('.')\r\n",
        "\r\n",
        "  return sentences \r\n",
        "\r\n",
        "\r\n",
        "\r\n",
        "\r\n",
        "\r\n",
        "# run sentiment analysis on each sentence in the book and save results into df_setiment \r\n",
        "def Analyzse_sentiment(sentences):\r\n",
        "  \"\"\"initial dataset to be used for saving results \"\"\"\r\n",
        "  df_sentiment = pd.DataFrame((np.zeros((4,int(len(sentences)))))) \r\n",
        "\r\n",
        "\r\n",
        "  \"\"\"initial flair model\"\"\"\r\n",
        "  tagger = TextClassifier.load('sentiment')\r\n",
        "\r\n",
        "  \"\"\"predict sentiment per sentence and save results in dataframe\"\"\"\r\n",
        "  for i, sentence in enumerate(sentences):\r\n",
        "    if sentence != \"\": \r\n",
        "      sentence = Sentence(sentence)\r\n",
        "      tagger.predict(sentence)\r\n",
        "      df_sentiment[i].update(sentence.labels)\r\n",
        "\r\n",
        "\r\n",
        "\r\n",
        "  \"\"\"make results more readable (make negative sentiment negative numbers..etc) \"\"\"\r\n",
        "  for i , sentence in enumerate(df_sentiment.iloc[0,:]):\r\n",
        "      try:\r\n",
        "        df_sentiment.iloc[1,i] = sentence.value\r\n",
        "        if sentence.value == 'NEGATIVE':\r\n",
        "          df_sentiment.iloc[2,i] = sentence.score * (-1)\r\n",
        "        else:\r\n",
        "          df_sentiment.iloc[2,i] = sentence.score\r\n",
        "      except:\r\n",
        "        pass\r\n",
        "\r\n",
        "  return df_sentiment\r\n",
        "\r\n",
        "\r\n",
        "\r\n",
        "\r\n",
        "# calcualte Major and Minor sentiment and vizualize it in a dashabord style\r\n",
        "\r\n",
        "def Display_sentiment(df_sentiment  , booktitle = ' book title'):\r\n",
        "\r\n",
        "\r\n",
        "  \"\"\" calcualte display data \"\"\"\r\n",
        "  l = df_sentiment.iloc[2,:]\r\n",
        "  l = pd.DataFrame(l , dtype=float64) \r\n",
        "  l['Major'] = l.iloc[:,0].rolling(40).mean()\r\n",
        "  l['Minor'] = l.iloc[:,0].rolling(10).mean()\r\n",
        "  \r\n",
        "  \r\n",
        "  \r\n",
        "  \r\n",
        "  \"\"\"Plot\"\"\"\r\n",
        "  fig, axes = plt.subplots(nrows=2, ncols=1, figsize=(30, 15))\r\n",
        "  axes[0].set_title((str(booktitle) + ' : Sentimental Tendency') , fontsize = 30  , loc='left')\r\n",
        "  axes[0].plot(l['Major'])\r\n",
        "  axes[0].set_xlabel('Sentences' , fontsize=20)\r\n",
        "  axes[0].set_ylabel('Sentiment', fontsize=20)\r\n",
        "  axes[0].legend(['Major Sentiment(rolling average for 30 sentences)'], fontsize=20)\r\n",
        "  axes[0].fill_between(l.index, l['Major'] ,0 , where=l['Major'] >= 0, facecolor='lightgreen',  interpolate=True)\r\n",
        "  axes[0].fill_between(l.index, l['Major'] ,0 , where=l['Major'] <= 0, facecolor='lightcoral',  interpolate=True)\r\n",
        "  axes[0].set_facecolor('white')\r\n",
        "  axes[1].plot(l['Minor'])\r\n",
        "  axes[1].set_xlabel('Sentences' , fontsize=15)\r\n",
        "  axes[1].set_ylabel('Sentiment' , fontsize=15)\r\n",
        "  axes[1].fill_between(l.index, l['Minor'] ,0 , where=l['Minor'] >= 0, facecolor='lightgreen',  interpolate=True)\r\n",
        "  axes[1].fill_between(l.index, l['Minor'] ,0 , where=l['Minor'] <= 0, facecolor='lightcoral',  interpolate=True)\r\n",
        "  axes[1].set_facecolor('white')\r\n",
        "  axes[1].legend(['Minor Sentiment(rolling average for 5 sentences)'] , fontsize=20)\r\n",
        "\r\n",
        "\r\n",
        "\r\n",
        "\r\n",
        "# run emotions dedection on each sentence \r\n",
        "def Analyzse_Emotions(sentences):\r\n",
        "  \r\n",
        "  \"\"\" initiate Tokanizer\"\"\"\r\n",
        "  token = RegexpTokenizer(r'[a-zA-Z0-9]+')\r\n",
        "  \r\n",
        "  \r\n",
        "  \r\n",
        "  \"\"\" Load Model and Victorizer\"\"\"\r\n",
        "  cv = pickle.load(open(\"vectorizer.pickle\", 'rb'))\r\n",
        "  df_emotions = pd.DataFrame((np.zeros((1,int(len(sentences))))))\r\n",
        "  filename = 'emotions_detector.sav'\r\n",
        "  model = pickle.load(open(filename, 'rb'))\r\n",
        "  \r\n",
        "  \r\n",
        "  \r\n",
        "  \"\"\" Iterate Over each sentence and predict Emoitn then save results in a data frame\"\"\"\r\n",
        "  for i , sentence in enumerate( sentences):\r\n",
        "    try:\r\n",
        "        result = model.predict(cv.transform([sentence]))\r\n",
        "        df_emotions[i].update(result)\r\n",
        "    except:\r\n",
        "      pass\r\n",
        "  return df_emotions\r\n",
        "\r\n",
        "\r\n",
        "# perform calculations on df_emotions and display results \r\n",
        "def Display_emotions(df_emotions , booktitle = 'Book Title'):\r\n",
        "\r\n",
        "  \"\"\" caulcate axies and prepare data for radar plot\"\"\"\r\n",
        "  l = df_emotions.T.value_counts().index\r\n",
        "  l = l.tolist()\r\n",
        "  v = df_emotions.T.value_counts()\r\n",
        "  v = v.tolist()\r\n",
        "\r\n",
        "  \"\"\" plot radar\"\"\"\r\n",
        "  fig = go.Figure(data=go.Scatterpolar(r=v,theta=l,fill='toself'))\r\n",
        "  fig.update_layout(polar=dict(radialaxis=dict(visible=False),),showlegend=False ,   title={\r\n",
        "        'text': (str(booktitle)+' : Composition of Emotion ')})\r\n",
        "  fig.show()\r\n",
        "\r\n",
        "\r\n",
        "\r\n",
        "  \"\"\" calcualte data for line chart \"\"\"\r\n",
        "  df_emotions1 = df_emotions.T\r\n",
        "  df_emotions1['Sentences(50)'] =  ((df_emotions1.index/50).astype(int))*50\r\n",
        "  df_emotions1['1'] = df_emotions1.index\r\n",
        "  data = df_emotions1.groupby(by=['Sentences(50)',0]).count()\r\n",
        "  data = pd.DataFrame(data)\r\n",
        "  data.reset_index(inplace=True)  \r\n",
        "  data.columns = ['Sentences','Emotion','Count']\r\n",
        "  \r\n",
        "  \r\n",
        "  \r\n",
        "  \"\"\" plot\"\"\"\r\n",
        "  fig = px.line(data,\r\n",
        "                 x=\t'Sentences' ,  y='Count', color='Emotion',\r\n",
        "                 title=((str(booktitle)+\" : Emotional Journey\")))\r\n",
        "  fig.show()\r\n",
        "\r\n",
        "\r\n",
        "\r\n",
        "# The Below Function retrive a Data Frame containing all the Entities detected and entity label ( index is sentence in text)\r\n",
        "def Analyze_entities(sentences):\r\n",
        "\r\n",
        "\r\n",
        "  \"\"\" initiate two datasets to be used for saving results \"\"\"\r\n",
        "  df_ent = pd.DataFrame((np.zeros((100,int(len(sentences))))))\r\n",
        "  df_ents = pd.DataFrame((np.zeros((3,int(len(sentences))))))\r\n",
        "  l = []\r\n",
        "\r\n",
        "\r\n",
        "  \"\"\"Load sapcy Model \"\"\"\r\n",
        "  nlp_md = spacy.load('en_core_web_md')\r\n",
        "\r\n",
        "  \"\"\" transfor data into doc.ents df \"\"\"\r\n",
        "  for i , sentence in enumerate(sentences):\r\n",
        "    doc = nlp_md(sentence)\r\n",
        "    df_ent[i].update(doc.ents)\r\n",
        "\r\n",
        "\r\n",
        "\r\n",
        "    \"\"\" save attriiputes of each entity into dataframe while keeping index of sentence\"\"\"\r\n",
        "  for  j , raw in df_ent.iteritems():\r\n",
        "    for i , item in enumerate(raw):\r\n",
        "      item2 = item\r\n",
        "      if str(item2) != '0.0':\r\n",
        "        l = [j , item.text , item.label_]\r\n",
        "        df_ents[j].update(l)\r\n",
        "  \"\"\" tranform data frame into desired form \"\"\"\r\n",
        "  df_ents = df_ents.T\r\n",
        "\r\n",
        "  \"\"\" remove empty reconds\"\"\"\r\n",
        "  df_ents = df_ents[df_ents[1] != 0]\r\n",
        "\r\n",
        "  \"\"\"rename columns\"\"\"\r\n",
        "  df_ents.columns = ['Count','entity','label']\r\n",
        "\r\n",
        "  \"\"\" filter to desired entity types\"\"\"\r\n",
        "  df_ents = df_ents[df_ents.label.isin([ 'PERSON' ,'NORP','GPE', 'LOC','EVENT', 'LAW'])]\r\n",
        "  \r\n",
        "  return df_ents\r\n",
        "  \r\n",
        "\r\n",
        "\r\n",
        "\r\n",
        "\r\n",
        "\r\n",
        "\r\n",
        "#the Below Function draw a Sunburt chart displaying entities mentioned alog with their types \r\n",
        "\r\n",
        "def Display_entities(df_ents , booktitle = 'Booktitle'):\r\n",
        "\r\n",
        "  \"\"\" replace label with more clear labels \"\"\"\r\n",
        "  df_ents = df_ents.replace('NORP', 'Nationalities/groups')\r\n",
        "  df_ents = df_ents.replace('PERSON', 'People')\r\n",
        "  df_ents = df_ents.replace('GPE', 'Countries/Cities')\r\n",
        "  df_ents = df_ents.replace('LOC', 'Locations')\r\n",
        "  df_ents = df_ents.replace('EVENT', 'Event')\r\n",
        "  df_ents = df_ents.replace('LAW', 'Laws')\r\n",
        "\r\n",
        "\r\n",
        "  \"\"\" prepare data for sunburst figure\"\"\"\r\n",
        "  df_ents1 = df_ents\r\n",
        "  df_ents1 = df_ents1.groupby(by=['label','entity']).count().sort_values(by='Count', ascending=False).head(20)\r\n",
        "  df_ents1 = df_ents1.reset_index(level=['label', 'entity'])\r\n",
        "\r\n",
        "  \"\"\" plot \"\"\"\r\n",
        "  fig = px.sunburst(df_ents1, path=['label', 'entity'], values='Count' , title=( str(booktitle)+\" : Mentions of Entities (locations, nationalities, events, and characters)\"))\r\n",
        "  fig.update_layout(width=1500,height=900)\r\n",
        "  fig.show()\r\n",
        "\r\n",
        "  \"\"\"prepare data for line chart plot \"\"\"\r\n",
        "  df_ents2 = df_ents\r\n",
        "  df_ents2['sentence'] = ((df_ents2.index/50).astype(int))*50\r\n",
        "  df_ents2 = df_ents2.groupby(by=['sentence','label','entity']).count()\r\n",
        "  df_ents2 = df_ents2.reset_index(level=['sentence','label','entity'])\r\n",
        "  df_ents2 = df_ents2[df_ents2['Count'] > 1]\r\n",
        "  df_ents2.columns = ['sentence(every 50 senteces)', 'label', 'entity', 'count']\r\n",
        "\r\n",
        "\r\n",
        "  \"\"\" plot\"\"\"\r\n",
        "  fig = px.scatter(df_ents2,x='sentence(every 50 senteces)', y=\"entity\",\r\n",
        "\t         size=\"count\", color=\"entity\")\r\n",
        "  fig.show()\r\n",
        "\r\n",
        "\r\n",
        "\r\n",
        "# main function that fun all analysis and dispaly all results \r\n",
        "def Analyze_Book(path,booktitle=\"Book Title\"):\r\n",
        "  warnings.filterwarnings('ignore');\r\n",
        "  sentences = Load_book(path)\r\n",
        "  df_sent = Analyzse_sentiment(sentences)\r\n",
        "  df_emo = Analyzse_Emotions(sentences)\r\n",
        "  df_ent = Analyze_entities(sentences)\r\n",
        "  Display_sentiment(df_sent , booktitle)\r\n",
        "  Display_entities(df_ent , booktitle)\r\n",
        "  Display_emotions(df_emo , booktitle )\r\n"
      ],
      "execution_count": 16,
      "outputs": []
    },
    {
      "cell_type": "code",
      "metadata": {
        "id": "Huj14tVWj3TG"
      },
      "source": [
        ""
      ],
      "execution_count": 16,
      "outputs": []
    },
    {
      "cell_type": "markdown",
      "metadata": {
        "id": "0_1cGPG0kOv-"
      },
      "source": [
        "# Analyze Books"
      ]
    },
    {
      "cell_type": "code",
      "metadata": {
        "id": "rGdoYxwNj3X9",
        "outputId": "5cf3fb99-d4be-4014-9a36-9b7371589f0c",
        "colab": {
          "base_uri": "https://localhost:8080/"
        }
      },
      "source": [
        "Analyze_Book('/content/Thus Spoke Zarathustra.txt' , 'Thus Spoke Zarathustra' )"
      ],
      "execution_count": null,
      "outputs": [
        {
          "output_type": "stream",
          "text": [
            "2020-12-17 21:21:30,245 loading file /root/.flair/models/sentiment-en-mix-distillbert_3.1.pt\n"
          ],
          "name": "stdout"
        }
      ]
    },
    {
      "cell_type": "code",
      "metadata": {
        "id": "oMVr2Kh-kId7"
      },
      "source": [
        ""
      ],
      "execution_count": null,
      "outputs": []
    },
    {
      "cell_type": "code",
      "metadata": {
        "id": "81VTJ9JBldWV"
      },
      "source": [
        "Analyze_Book('/content/On the Genealogy of Morality.txt' , 'On the Genealogy of Morality' )"
      ],
      "execution_count": null,
      "outputs": []
    },
    {
      "cell_type": "code",
      "metadata": {
        "id": "8hiDhfTcldZC"
      },
      "source": [
        ""
      ],
      "execution_count": null,
      "outputs": []
    },
    {
      "cell_type": "code",
      "metadata": {
        "id": "2Pm5OfwUldbp"
      },
      "source": [
        ""
      ],
      "execution_count": null,
      "outputs": []
    },
    {
      "cell_type": "code",
      "metadata": {
        "id": "JOV_Qqfvldeh"
      },
      "source": [
        "Analyze_Book('/content/beowulf.txt' , 'Beowulf' )"
      ],
      "execution_count": null,
      "outputs": []
    },
    {
      "cell_type": "code",
      "metadata": {
        "id": "r4bcwNAsldhR"
      },
      "source": [
        ""
      ],
      "execution_count": null,
      "outputs": []
    },
    {
      "cell_type": "code",
      "metadata": {
        "id": "1koW0Ny9ldkI"
      },
      "source": [
        ""
      ],
      "execution_count": null,
      "outputs": []
    }
  ]
}