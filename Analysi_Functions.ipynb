{
 "cells": [
  {
   "cell_type": "markdown",
   "metadata": {
    "id": "g9EgOlBpV0hL"
   },
   "source": [
    "# Defining Analysis Functions"
   ]
  },
  {
   "cell_type": "code",
   "execution_count": 9,
   "metadata": {
    "id": "vZlBhv_9V7i5"
   },
   "outputs": [
    {
     "name": "stderr",
     "output_type": "stream",
     "text": [
      "C:\\Users\\khaldoun\\.conda\\envs\\khaldoun1\\lib\\site-packages\\ipykernel\\ipkernel.py:287: DeprecationWarning:\n",
      "\n",
      "`should_run_async` will not call `transform_cell` automatically in the future. Please pass the result to `transformed_cell` argument and any exception that happen during thetransform in `preprocessing_exc_tuple` in IPython 7.17 and above.\n",
      "\n"
     ]
    }
   ],
   "source": [
    "\n",
    "# load book , clean data and split into sentences \n",
    "def Load_book(path):\n",
    "  book = open(path, 'r').read()\n",
    "  book = book.replace(\"_\",' ')\n",
    "  book = book.replace(\"\\n\",'')\n",
    "  sentences  = book.split('.')\n",
    "\n",
    "  return sentences \n",
    "\n",
    "# run sentiment analysis on each sentence in the book and save them into df_setiment \n",
    "def Analyzse_sentiment(sentences):\n",
    "  tagger = TextClassifier.load('sentiment')\n",
    "  df_sentiment = pd.DataFrame((np.zeros((4,int(len(sentences))))))\n",
    "  for i, sentence in enumerate(sentences):\n",
    "    warnings.filterwarnings('ignore')\n",
    "    sentence = Sentence(sentence)\n",
    "    tagger.predict(sentence)\n",
    "    df_sentiment[i].update(sentence.labels)\n",
    "\n",
    "\n",
    "  for i , sentence in enumerate(df_sentiment.iloc[0,:]):\n",
    "      try:\n",
    "        df_sentiment.iloc[1,i] = sentence.value\n",
    "        if sentence.value == 'NEGATIVE':\n",
    "          df_sentiment.iloc[2,i] = sentence.score * (-1)\n",
    "        else:\n",
    "          df_sentiment.iloc[2,i] = sentence.score\n",
    "      except:\n",
    "        pass\n",
    "\n",
    "  return df_sentiment\n",
    "\n",
    "# run emotions dedection on each sentence \n",
    "def Analyzse_Emotions(sentences):\n",
    "  token = RegexpTokenizer(r'[a-zA-Z0-9]+')\n",
    "  cv = pickle.load(open(r'vectorizer.pickle', 'rb'))\n",
    "  df_emotions = pd.DataFrame((np.zeros((1,int(len(sentences))))))\n",
    "  model = pickle.load(open(r\"emotions_detector.sav\", 'rb'))\n",
    "  for i , sentence in enumerate( sentences):\n",
    "    try:\n",
    "        result = model.predict(cv.transform([sentence]))\n",
    "        df_emotions[i].update(result)\n",
    "    except:\n",
    "      pass\n",
    "  return df_emotions\n",
    "\n",
    "\n",
    "# The Below Function retrive a Data Frame containing all the Entities detected and entity label ( index is sentence in text)\n",
    "def Analyze_entities(sentences):\n",
    "  df_ent = pd.DataFrame((np.zeros((100,int(len(sentences))))))\n",
    "  df_ents = pd.DataFrame((np.zeros((3,int(len(sentences))))))\n",
    "  l = []\n",
    "  for i , sentence in enumerate(sentences):\n",
    "    doc = nlp_md(sentence)\n",
    "    df_ent[i].update(doc.ents)\n",
    "  for  j , raw in df_ent.iteritems():\n",
    "    for i , item in enumerate(raw):\n",
    "      item2 = item\n",
    "      if str(item2) != '0.0':\n",
    "        l = [j , item.text , item.label_]\n",
    "        df_ents[j].update(l)\n",
    "  df_ents = df_ents.T\n",
    "  df_ents = df_ents[df_ents[1] != 0]\n",
    "  df_ents.columns = ['index','entity','label']\n",
    "  df_ents = df_ents[df_ents.label.isin([ 'PERSON' ,'NORP','GPE', 'LOC','EVENT', 'LAW'])]\n",
    "  \n",
    "  return df_ents\n",
    "  \n",
    "\n",
    "    \n",
    "#Main Function to run program \n",
    "def Analyze_Book(path,booktitle=\"Book Title\"):\n",
    "  warnings.filterwarnings(\"always\")\n",
    "  sentences = Load_book(path)\n",
    "  df_sent = Analyzse_sentiment(sentences)\n",
    "  df_emo = Analyzse_Emotions(sentences)\n",
    "  df_ent = Analyze_entities(sentences)\n",
    "  Display_sentiment(df_sent , booktitle)\n",
    "  Display_entities(df_ent , booktitle)\n",
    "  Display_emotions(df_emo , booktitle )\n"
   ]
  }
 ],
 "metadata": {
  "colab": {
   "name": "Untitled7.ipynb",
   "provenance": []
  },
  "kernelspec": {
   "display_name": "Python 3",
   "language": "python",
   "name": "python3"
  },
  "language_info": {
   "codemirror_mode": {
    "name": "ipython",
    "version": 3
   },
   "file_extension": ".py",
   "mimetype": "text/x-python",
   "name": "python",
   "nbconvert_exporter": "python",
   "pygments_lexer": "ipython3",
   "version": "3.7.1"
  }
 },
 "nbformat": 4,
 "nbformat_minor": 1
}
