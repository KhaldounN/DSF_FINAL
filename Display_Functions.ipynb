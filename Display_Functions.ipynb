{
 "cells": [
  {
   "cell_type": "markdown",
   "metadata": {
    "id": "pbxeoOcjrU6x"
   },
   "source": [
    "# Importing needed libraries \n"
   ]
  },
  {
   "cell_type": "code",
   "execution_count": 5,
   "metadata": {
    "id": "SwwFM4L5ZeFc"
   },
   "outputs": [],
   "source": [
    "from flair.models import TextClassifier\n",
    "from flair.data import Sentence\n",
    "import pandas as pd\n",
    "import numpy as np\n",
    "import matplotlib.pyplot as plt\n",
    "import seaborn as sns\n",
    "plt.style.use(\"seaborn\")\n",
    "import math\n",
    "import plotly.express as px\n",
    "import pandas as pd\n",
    "import plotly.graph_objects as go\n",
    "import warnings\n",
    "warnings.filterwarnings('ignore')\n",
    "import spacy\n",
    "nlp_md = spacy.load('en_core_web_md')\n",
    "import plotly.express as px\n",
    "import pickle\n",
    "from nltk.tokenize import RegexpTokenizer"
   ]
  },
  {
   "cell_type": "markdown",
   "metadata": {
    "id": "g9EgOlBpV0hL"
   },
   "source": [
    "# Defining Functions "
   ]
  },
  {
   "cell_type": "code",
   "execution_count": 1,
   "metadata": {
    "id": "vZlBhv_9V7i5"
   },
   "outputs": [],
   "source": [
    "\n",
    "# calcualte Major and Minor sentiment and vizualize it in a dashabord style\n",
    "\n",
    "def Display_sentiment(df_sentiment  , booktitle = ' book title'):\n",
    "  warnings.filterwarnings(\"always\")\n",
    "\n",
    "  l = df_sentiment.iloc[2,:]\n",
    "  l = pd.DataFrame(l) \n",
    "  l['Major'] = l.iloc[:,0].rolling(40).mean()\n",
    "  l['Minor'] = l.iloc[:,0].rolling(10).mean()\n",
    "\n",
    "  fig, axes = plt.subplots(nrows=2, ncols=1, figsize=(30, 15))\n",
    "  axes[0].set_title((str(booktitle) + ' : Sentimental Tendency') , fontsize = 30  , loc='left')\n",
    "  axes[0].plot(l['Major'])\n",
    "  axes[0].set_xlabel('Sentences' , fontsize=20)\n",
    "  axes[0].set_ylabel('Sentiment', fontsize=20)\n",
    "  axes[0].legend(['Major Sentiment(rolling average for 30 sentences)'], fontsize=20)\n",
    "  axes[0].fill_between(l.index, l['Major'] ,0 , where=l['Major'] >= 0, facecolor='lightgreen',  interpolate=True)\n",
    "  axes[0].fill_between(l.index, l['Major'] ,0 , where=l['Major'] <= 0, facecolor='lightcoral',  interpolate=True)\n",
    "  axes[0].set_facecolor('white')\n",
    "  axes[1].plot(l['Minor'])\n",
    "  axes[1].set_xlabel('Sentences' , fontsize=15)\n",
    "  axes[1].set_ylabel('Sentiment' , fontsize=15)\n",
    "  axes[1].fill_between(l.index, l['Minor'] ,0 , where=l['Minor'] >= 0, facecolor='lightgreen',  interpolate=True)\n",
    "  axes[1].fill_between(l.index, l['Minor'] ,0 , where=l['Minor'] <= 0, facecolor='lightcoral',  interpolate=True)\n",
    "  axes[1].set_facecolor('white')\n",
    "  axes[1].legend(['Minor Sentiment(rolling average for 5 sentences)'] , fontsize=20)\n",
    "\n",
    "\n",
    "# perform calculations on df_emotions and display results \n",
    "def Display_emotions(df_emotions , booktitle = 'Book Title'):\n",
    "  \n",
    "  l = df_emotions.T.value_counts().index\n",
    "  l = l.tolist()\n",
    "  v = df_emotions.T.value_counts()\n",
    "  v = v.tolist()\n",
    "  fig = go.Figure(data=go.Scatterpolar(r=v,theta=l,fill='toself'))\n",
    "  fig.update_layout(polar=dict(radialaxis=dict(visible=False),),showlegend=False ,   title={\n",
    "        'text': (str(booktitle)+' : Composition of Emotion ')})\n",
    "  fig.show()\n",
    "\n",
    "\n",
    "  df_emotions1 = df_emotions.T\n",
    "  df_emotions1['Sentences(50)'] =  ((df_emotions1.index/50).astype(int))*50\n",
    "  df_emotions1['1'] = df_emotions1.index\n",
    "  data = df_emotions1.groupby(by=['Sentences(50)',0]).count()\n",
    "  data = pd.DataFrame(data)\n",
    "  data.reset_index(inplace=True)  \n",
    "  data.columns = ['Sentences','Emotion','Count']\n",
    "  fig = px.line(data,\n",
    "                 x=\t'Sentences' ,  y='Count', color='Emotion',\n",
    "                 title=((str(booktitle)+\" : Emotional Journey\")))\n",
    "  fig.show()\n",
    "\n",
    "\n",
    "  \n",
    "#the Below Function draw a Sunburt chart displaying entities mentioned alog with their types \n",
    "\n",
    "def Display_entities(df_ents , booktitle = 'Booktitle'):\n",
    "\n",
    "  # replace label with more understandble labels :\n",
    "  df_ents = df_ents.replace('NORP', 'Nationalities/groups')\n",
    "  df_ents = df_ents.replace('PERSON', 'People')\n",
    "  df_ents = df_ents.replace('GPE', 'Countries/Cities')\n",
    "  df_ents = df_ents.replace('LOC', 'Locations')\n",
    "  df_ents = df_ents.replace('EVENT', 'Event')\n",
    "  df_ents = df_ents.replace('LAW', 'Laws')\n",
    "\n",
    "  # FIRST FIGURE\n",
    "  df_ents1 = df_ents\n",
    "  df_ents1 = df_ents1.groupby(by=['label','entity']).count().sort_values(by='index', ascending=False).head(20)\n",
    "  df_ents1 = df_ents1.reset_index(level=['label', 'entity'])\n",
    "  df = px.data.tips()\n",
    "  fig = px.sunburst(df_ents1, path=['label', 'entity'], values='index' , title=( str(booktitle)+\" : Mentions of Entities (locations, nationalities, events, and characters)\"))\n",
    "  fig.update_layout(width=1000,height=900)\n",
    "  fig.show()\n",
    "\n",
    "  #SECOND FIGURE\n",
    "  df_ents2 = df_ents\n",
    "  df_ents2['sentence'] = ((df_ents2.index/50).astype(int))*50\n",
    "  df_ents2 = df_ents2.groupby(by=['sentence','label','entity']).count()\n",
    "  df_ents2 = df_ents2.reset_index(level=['sentence','label','entity'])\n",
    "  df_ents2 = df_ents2[df_ents2['index'] > 1]\n",
    "  df_ents2.columns = ['sentence(every 50 senteces)', 'label', 'entity', 'count']\n",
    "  fig = px.scatter(df_ents2,x='sentence(every 50 senteces)', y=\"entity\",\n",
    "\t         size=\"count\", color=\"entity\")\n",
    "  fig.show()\n"
   ]
  },
  {
   "cell_type": "code",
   "execution_count": null,
   "metadata": {},
   "outputs": [],
   "source": []
  }
 ],
 "metadata": {
  "colab": {
   "name": "Untitled7.ipynb",
   "provenance": []
  },
  "kernelspec": {
   "display_name": "Python 3",
   "language": "python",
   "name": "python3"
  },
  "language_info": {
   "codemirror_mode": {
    "name": "ipython",
    "version": 3
   },
   "file_extension": ".py",
   "mimetype": "text/x-python",
   "name": "python",
   "nbconvert_exporter": "python",
   "pygments_lexer": "ipython3",
   "version": "3.7.1"
  }
 },
 "nbformat": 4,
 "nbformat_minor": 1
}
